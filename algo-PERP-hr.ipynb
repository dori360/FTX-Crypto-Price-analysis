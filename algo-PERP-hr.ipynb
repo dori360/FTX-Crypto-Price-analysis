{
 "cells": [
  {
   "cell_type": "code",
   "execution_count": 1,
   "id": "0cecb68d",
   "metadata": {},
   "outputs": [
    {
     "ename": "JSONDecodeError",
     "evalue": "Expecting value: line 1 column 1 (char 0)",
     "output_type": "error",
     "traceback": [
      "\u001b[0;31m---------------------------------------------------------------------------\u001b[0m",
      "\u001b[0;31mJSONDecodeError\u001b[0m                           Traceback (most recent call last)",
      "Input \u001b[0;32mIn [1]\u001b[0m, in \u001b[0;36m<cell line: 9>\u001b[0;34m()\u001b[0m\n\u001b[1;32m      6\u001b[0m pd\u001b[38;5;241m.\u001b[39mset_option(\u001b[38;5;124m\"\u001b[39m\u001b[38;5;124mdisplay.precision\u001b[39m\u001b[38;5;124m\"\u001b[39m, \u001b[38;5;241m15\u001b[39m)\n\u001b[1;32m      7\u001b[0m \u001b[38;5;66;03m#df.index.name='Index1' = to give index a name \u001b[39;00m\n\u001b[1;32m      8\u001b[0m \u001b[38;5;66;03m#/markets/GMT-PERP/candles?resolution={resolution}&start_time={start_time}&end_time={end_time}\u001b[39;00m\n\u001b[0;32m----> 9\u001b[0m market \u001b[38;5;241m=\u001b[39m \u001b[43mrequests\u001b[49m\u001b[38;5;241;43m.\u001b[39;49m\u001b[43mget\u001b[49m\u001b[43m(\u001b[49m\u001b[38;5;124;43m'\u001b[39;49m\u001b[38;5;124;43mhttps://ftx.com/api/markets/ALGO-PERP/candles?resolution=3600&start_time=1649116800&end_time=1653264000\u001b[39;49m\u001b[38;5;124;43m'\u001b[39;49m\u001b[43m)\u001b[49m\u001b[38;5;241;43m.\u001b[39;49m\u001b[43mjson\u001b[49m\u001b[43m(\u001b[49m\u001b[43m)\u001b[49m\n\u001b[1;32m     10\u001b[0m df \u001b[38;5;241m=\u001b[39m pd\u001b[38;5;241m.\u001b[39mDataFrame(market[\u001b[38;5;124m'\u001b[39m\u001b[38;5;124mresult\u001b[39m\u001b[38;5;124m'\u001b[39m])\n\u001b[1;32m     12\u001b[0m some_variable \u001b[38;5;241m=\u001b[39m df\u001b[38;5;241m.\u001b[39mloc[\u001b[38;5;241m0\u001b[39m:\u001b[38;5;241m50\u001b[39m]\n",
      "File \u001b[0;32m~/Downloads/computer_science/projects/python/venv/miniforge/lib/python3.8/site-packages/requests/models.py:899\u001b[0m, in \u001b[0;36mResponse.json\u001b[0;34m(self, **kwargs)\u001b[0m\n\u001b[1;32m    897\u001b[0m \u001b[38;5;28;01mif\u001b[39;00m encoding \u001b[38;5;129;01mis\u001b[39;00m \u001b[38;5;129;01mnot\u001b[39;00m \u001b[38;5;28;01mNone\u001b[39;00m:\n\u001b[1;32m    898\u001b[0m     \u001b[38;5;28;01mtry\u001b[39;00m:\n\u001b[0;32m--> 899\u001b[0m         \u001b[38;5;28;01mreturn\u001b[39;00m \u001b[43mcomplexjson\u001b[49m\u001b[38;5;241;43m.\u001b[39;49m\u001b[43mloads\u001b[49m\u001b[43m(\u001b[49m\n\u001b[1;32m    900\u001b[0m \u001b[43m            \u001b[49m\u001b[38;5;28;43mself\u001b[39;49m\u001b[38;5;241;43m.\u001b[39;49m\u001b[43mcontent\u001b[49m\u001b[38;5;241;43m.\u001b[39;49m\u001b[43mdecode\u001b[49m\u001b[43m(\u001b[49m\u001b[43mencoding\u001b[49m\u001b[43m)\u001b[49m\u001b[43m,\u001b[49m\u001b[43m \u001b[49m\u001b[38;5;241;43m*\u001b[39;49m\u001b[38;5;241;43m*\u001b[39;49m\u001b[43mkwargs\u001b[49m\n\u001b[1;32m    901\u001b[0m \u001b[43m        \u001b[49m\u001b[43m)\u001b[49m\n\u001b[1;32m    902\u001b[0m     \u001b[38;5;28;01mexcept\u001b[39;00m \u001b[38;5;167;01mUnicodeDecodeError\u001b[39;00m:\n\u001b[1;32m    903\u001b[0m         \u001b[38;5;66;03m# Wrong UTF codec detected; usually because it's not UTF-8\u001b[39;00m\n\u001b[1;32m    904\u001b[0m         \u001b[38;5;66;03m# but some other 8-bit codec.  This is an RFC violation,\u001b[39;00m\n\u001b[1;32m    905\u001b[0m         \u001b[38;5;66;03m# and the server didn't bother to tell us what codec *was*\u001b[39;00m\n\u001b[1;32m    906\u001b[0m         \u001b[38;5;66;03m# used.\u001b[39;00m\n\u001b[1;32m    907\u001b[0m         \u001b[38;5;28;01mpass\u001b[39;00m\n",
      "File \u001b[0;32m~/Downloads/computer_science/projects/python/venv/miniforge/lib/python3.8/json/__init__.py:357\u001b[0m, in \u001b[0;36mloads\u001b[0;34m(s, cls, object_hook, parse_float, parse_int, parse_constant, object_pairs_hook, **kw)\u001b[0m\n\u001b[1;32m    352\u001b[0m     \u001b[38;5;28;01mdel\u001b[39;00m kw[\u001b[38;5;124m'\u001b[39m\u001b[38;5;124mencoding\u001b[39m\u001b[38;5;124m'\u001b[39m]\n\u001b[1;32m    354\u001b[0m \u001b[38;5;28;01mif\u001b[39;00m (\u001b[38;5;28mcls\u001b[39m \u001b[38;5;129;01mis\u001b[39;00m \u001b[38;5;28;01mNone\u001b[39;00m \u001b[38;5;129;01mand\u001b[39;00m object_hook \u001b[38;5;129;01mis\u001b[39;00m \u001b[38;5;28;01mNone\u001b[39;00m \u001b[38;5;129;01mand\u001b[39;00m\n\u001b[1;32m    355\u001b[0m         parse_int \u001b[38;5;129;01mis\u001b[39;00m \u001b[38;5;28;01mNone\u001b[39;00m \u001b[38;5;129;01mand\u001b[39;00m parse_float \u001b[38;5;129;01mis\u001b[39;00m \u001b[38;5;28;01mNone\u001b[39;00m \u001b[38;5;129;01mand\u001b[39;00m\n\u001b[1;32m    356\u001b[0m         parse_constant \u001b[38;5;129;01mis\u001b[39;00m \u001b[38;5;28;01mNone\u001b[39;00m \u001b[38;5;129;01mand\u001b[39;00m object_pairs_hook \u001b[38;5;129;01mis\u001b[39;00m \u001b[38;5;28;01mNone\u001b[39;00m \u001b[38;5;129;01mand\u001b[39;00m \u001b[38;5;129;01mnot\u001b[39;00m kw):\n\u001b[0;32m--> 357\u001b[0m     \u001b[38;5;28;01mreturn\u001b[39;00m \u001b[43m_default_decoder\u001b[49m\u001b[38;5;241;43m.\u001b[39;49m\u001b[43mdecode\u001b[49m\u001b[43m(\u001b[49m\u001b[43ms\u001b[49m\u001b[43m)\u001b[49m\n\u001b[1;32m    358\u001b[0m \u001b[38;5;28;01mif\u001b[39;00m \u001b[38;5;28mcls\u001b[39m \u001b[38;5;129;01mis\u001b[39;00m \u001b[38;5;28;01mNone\u001b[39;00m:\n\u001b[1;32m    359\u001b[0m     \u001b[38;5;28mcls\u001b[39m \u001b[38;5;241m=\u001b[39m JSONDecoder\n",
      "File \u001b[0;32m~/Downloads/computer_science/projects/python/venv/miniforge/lib/python3.8/json/decoder.py:337\u001b[0m, in \u001b[0;36mJSONDecoder.decode\u001b[0;34m(self, s, _w)\u001b[0m\n\u001b[1;32m    332\u001b[0m \u001b[38;5;28;01mdef\u001b[39;00m \u001b[38;5;21mdecode\u001b[39m(\u001b[38;5;28mself\u001b[39m, s, _w\u001b[38;5;241m=\u001b[39mWHITESPACE\u001b[38;5;241m.\u001b[39mmatch):\n\u001b[1;32m    333\u001b[0m     \u001b[38;5;124;03m\"\"\"Return the Python representation of ``s`` (a ``str`` instance\u001b[39;00m\n\u001b[1;32m    334\u001b[0m \u001b[38;5;124;03m    containing a JSON document).\u001b[39;00m\n\u001b[1;32m    335\u001b[0m \n\u001b[1;32m    336\u001b[0m \u001b[38;5;124;03m    \"\"\"\u001b[39;00m\n\u001b[0;32m--> 337\u001b[0m     obj, end \u001b[38;5;241m=\u001b[39m \u001b[38;5;28;43mself\u001b[39;49m\u001b[38;5;241;43m.\u001b[39;49m\u001b[43mraw_decode\u001b[49m\u001b[43m(\u001b[49m\u001b[43ms\u001b[49m\u001b[43m,\u001b[49m\u001b[43m \u001b[49m\u001b[43midx\u001b[49m\u001b[38;5;241;43m=\u001b[39;49m\u001b[43m_w\u001b[49m\u001b[43m(\u001b[49m\u001b[43ms\u001b[49m\u001b[43m,\u001b[49m\u001b[43m \u001b[49m\u001b[38;5;241;43m0\u001b[39;49m\u001b[43m)\u001b[49m\u001b[38;5;241;43m.\u001b[39;49m\u001b[43mend\u001b[49m\u001b[43m(\u001b[49m\u001b[43m)\u001b[49m\u001b[43m)\u001b[49m\n\u001b[1;32m    338\u001b[0m     end \u001b[38;5;241m=\u001b[39m _w(s, end)\u001b[38;5;241m.\u001b[39mend()\n\u001b[1;32m    339\u001b[0m     \u001b[38;5;28;01mif\u001b[39;00m end \u001b[38;5;241m!=\u001b[39m \u001b[38;5;28mlen\u001b[39m(s):\n",
      "File \u001b[0;32m~/Downloads/computer_science/projects/python/venv/miniforge/lib/python3.8/json/decoder.py:355\u001b[0m, in \u001b[0;36mJSONDecoder.raw_decode\u001b[0;34m(self, s, idx)\u001b[0m\n\u001b[1;32m    353\u001b[0m     obj, end \u001b[38;5;241m=\u001b[39m \u001b[38;5;28mself\u001b[39m\u001b[38;5;241m.\u001b[39mscan_once(s, idx)\n\u001b[1;32m    354\u001b[0m \u001b[38;5;28;01mexcept\u001b[39;00m \u001b[38;5;167;01mStopIteration\u001b[39;00m \u001b[38;5;28;01mas\u001b[39;00m err:\n\u001b[0;32m--> 355\u001b[0m     \u001b[38;5;28;01mraise\u001b[39;00m JSONDecodeError(\u001b[38;5;124m\"\u001b[39m\u001b[38;5;124mExpecting value\u001b[39m\u001b[38;5;124m\"\u001b[39m, s, err\u001b[38;5;241m.\u001b[39mvalue) \u001b[38;5;28;01mfrom\u001b[39;00m \u001b[38;5;28mNone\u001b[39m\n\u001b[1;32m    356\u001b[0m \u001b[38;5;28;01mreturn\u001b[39;00m obj, end\n",
      "\u001b[0;31mJSONDecodeError\u001b[0m: Expecting value: line 1 column 1 (char 0)"
     ]
    }
   ],
   "source": [
    "import pandas as pd\n",
    "import numpy as np\n",
    "import requests\n",
    "import json\n",
    "# from 4/4/22 0:00 UTC to 5/23/22 0:00 UTC \n",
    "pd.set_option(\"display.precision\", 15)\n",
    "#df.index.name='Index1' = to give index a name \n",
    "#/markets/GMT-PERP/candles?resolution={resolution}&start_time={start_time}&end_time={end_time}\n",
    "market = requests.get('https://ftx.com/api/markets/ALGO-PERP/candles?resolution=3600&start_time=1649116800&end_time=1653264000').json()\n",
    "df = pd.DataFrame(market['result'])\n",
    "\n",
    "some_variable = df.loc[0:50]\n",
    "print(some_variable)\n",
    "df "
   ]
  },
  {
   "cell_type": "code",
   "execution_count": null,
   "id": "37b7142a",
   "metadata": {},
   "outputs": [],
   "source": [
    "#Group by hour and take the mean prices of all hours \n",
    "#1st trial\n",
    "#s = pd.date_range('2022-04-05T00:00:00+00:00', '2022-05-23T00:00:00+00:00', freq='h').to_series()\n",
    "#s.dt.dayofweek.head(50)\n",
    "#s.head(50)\n",
    "###########\n",
    "#2nd trial \n",
    "s = pd.date_range('2022-04-05', '2022-05-23', freq='h').to_series()\n",
    "s.dt.hour"
   ]
  },
  {
   "cell_type": "code",
   "execution_count": null,
   "id": "1db64702",
   "metadata": {},
   "outputs": [],
   "source": [
    "df['hourOfDay'] = pd.to_datetime(df['startTime']).dt.hour\n",
    "print(df.hourOfDay)\n",
    "hourOfDay = df['hourOfDay'] = pd.to_datetime(df['startTime']).dt.hour\n",
    "#disregard this "
   ]
  },
  {
   "cell_type": "code",
   "execution_count": null,
   "id": "f8bae912",
   "metadata": {},
   "outputs": [],
   "source": [
    "# 1- Define the difference \n",
    "df['Difference'] = df['high'] - df['low']\n",
    "print(df.Difference)"
   ]
  },
  {
   "cell_type": "code",
   "execution_count": null,
   "id": "27afe0e1",
   "metadata": {},
   "outputs": [],
   "source": [
    "#2- Make a dataframe from diff & hour\n",
    "df1 = pd.DataFrame(df, columns=['Difference', 'hourOfDay'])\n",
    "df1['hourOfDay'] = df['hourOfDay']\n",
    "print(df1.head(30))"
   ]
  },
  {
   "cell_type": "code",
   "execution_count": null,
   "id": "449b3ef7",
   "metadata": {},
   "outputs": [],
   "source": [
    "import matplotlib.pyplot as plt\n",
    "# 3- Show the mean Of Every hour in relation to its corresponding Difference\n",
    "df1.groupby('hourOfDay').mean().plot(kind='bar')\n",
    "plt.show()\n",
    "df1_mean_diff = df1.groupby('hourOfDay').mean()"
   ]
  },
  {
   "cell_type": "code",
   "execution_count": null,
   "id": "1a69a489",
   "metadata": {},
   "outputs": [],
   "source": [
    "df1_mean_diff.loc[df1_mean_diff['Difference'].idxmax()]"
   ]
  },
  {
   "cell_type": "code",
   "execution_count": null,
   "id": "8939547d",
   "metadata": {},
   "outputs": [],
   "source": [
    "df1_mean_diff.loc[df1_mean_diff['Difference'].idxmin()]"
   ]
  },
  {
   "cell_type": "code",
   "execution_count": null,
   "id": "9e6cd3d8",
   "metadata": {},
   "outputs": [],
   "source": [
    "# 4- show the highs in All hours \n",
    "df3 = pd.DataFrame(df, columns=['high', 'hourOfDay'])\n",
    "df3['hourOfDay'] = df['hourOfDay']\n",
    "print(df3.head(30))"
   ]
  },
  {
   "cell_type": "code",
   "execution_count": null,
   "id": "a1e40e40",
   "metadata": {},
   "outputs": [],
   "source": [
    "df3.groupby('hourOfDay').mean().plot(kind='bar')\n",
    "plt.show()\n",
    "df3_mean_hr = df3.groupby('hourOfDay').mean()\n",
    "print(df3.groupby('hourOfDay').mean())"
   ]
  },
  {
   "cell_type": "code",
   "execution_count": null,
   "id": "17d981f7",
   "metadata": {},
   "outputs": [],
   "source": [
    "df3_mean_hr.describe()\n",
    "\n",
    "# hr 3 = max high "
   ]
  },
  {
   "cell_type": "code",
   "execution_count": null,
   "id": "49c468ba",
   "metadata": {},
   "outputs": [],
   "source": [
    "df3_mean_hr.loc[df3_mean_hr['high'].idxmax()]"
   ]
  },
  {
   "cell_type": "code",
   "execution_count": null,
   "id": "905a3ba5",
   "metadata": {},
   "outputs": [],
   "source": [
    "df3_mean_hr.loc[df3_mean_hr['high'].idxmin()]"
   ]
  },
  {
   "cell_type": "code",
   "execution_count": null,
   "id": "24766e59",
   "metadata": {},
   "outputs": [],
   "source": [
    "#5- show the close in all hrs \n",
    "df4 = pd.DataFrame(df, columns=['close', 'hourOfDay'])\n",
    "df4['hourOfDay'] = df['hourOfDay']\n",
    "print(df4.head(30))"
   ]
  },
  {
   "cell_type": "code",
   "execution_count": null,
   "id": "f211d261",
   "metadata": {},
   "outputs": [],
   "source": [
    "df4.groupby('hourOfDay').mean().plot(kind='bar')\n",
    "plt.show()\n",
    "df4_mean_hr = df4.groupby('hourOfDay').mean()\n",
    "print(df4.groupby('hourOfDay').mean())"
   ]
  },
  {
   "cell_type": "code",
   "execution_count": null,
   "id": "f084b7c6",
   "metadata": {},
   "outputs": [],
   "source": [
    "df4_mean_hr.describe()\n",
    "# max close = hr 5 \n",
    "# min close =  20\n",
    "df4_mean_hr.loc[df4_mean_hr['close'].idxmax()]"
   ]
  },
  {
   "cell_type": "code",
   "execution_count": null,
   "id": "6357cb1d",
   "metadata": {},
   "outputs": [],
   "source": [
    "df4_mean_hr.loc[df4_mean_hr['close'].idxmin()]"
   ]
  },
  {
   "cell_type": "code",
   "execution_count": null,
   "id": "d76bb89d",
   "metadata": {},
   "outputs": [],
   "source": [
    "#6- open price mean by hour \n",
    "df5 = pd.DataFrame(df, columns=['open', 'hourOfDay'])\n",
    "df5['hourOfDay'] = df['hourOfDay']"
   ]
  },
  {
   "cell_type": "code",
   "execution_count": null,
   "id": "e185252a",
   "metadata": {},
   "outputs": [],
   "source": [
    "df5.groupby('hourOfDay').mean().plot(kind='bar')\n",
    "plt.show()\n",
    "df5_mean_hr = df5.groupby('hourOfDay').mean()\n",
    "print(df4.groupby('hourOfDay').mean())"
   ]
  },
  {
   "cell_type": "code",
   "execution_count": null,
   "id": "891fa684",
   "metadata": {},
   "outputs": [],
   "source": [
    "df5_mean_hr.loc[df5_mean_hr['open'].idxmax()]"
   ]
  },
  {
   "cell_type": "code",
   "execution_count": null,
   "id": "9108bac9",
   "metadata": {},
   "outputs": [],
   "source": [
    "df5_mean_hr.loc[df5_mean_hr['open'].idxmin()]"
   ]
  },
  {
   "cell_type": "code",
   "execution_count": null,
   "id": "4b8cdeb2",
   "metadata": {},
   "outputs": [],
   "source": [
    "#7- Open - close \n",
    "df['Difference_oc'] = df['open'] - df['close']\n",
    "print(df.Difference)"
   ]
  },
  {
   "cell_type": "code",
   "execution_count": null,
   "id": "fdba1bc5",
   "metadata": {},
   "outputs": [],
   "source": [
    "df6 = pd.DataFrame(df, columns=['Difference_oc', 'hourOfDay'])\n",
    "df6['hourOfDay'] = df['hourOfDay']\n",
    "print(df6.head(30))"
   ]
  },
  {
   "cell_type": "code",
   "execution_count": null,
   "id": "f65b1fcb",
   "metadata": {},
   "outputs": [],
   "source": [
    "df6.groupby('hourOfDay').mean().plot(kind='bar')\n",
    "plt.show()\n",
    "df6_mean_hr = df6.groupby('hourOfDay').mean()\n",
    "print(df6.groupby('hourOfDay').mean())"
   ]
  },
  {
   "cell_type": "code",
   "execution_count": null,
   "id": "8001c149",
   "metadata": {},
   "outputs": [],
   "source": [
    "df6_mean_hr.loc[df6_mean_hr['Difference_oc'].idxmax()]"
   ]
  },
  {
   "cell_type": "code",
   "execution_count": null,
   "id": "760d665f",
   "metadata": {},
   "outputs": [],
   "source": [
    "df6_mean_hr.loc[df6_mean_hr['Difference_oc'].idxmin()]"
   ]
  },
  {
   "cell_type": "code",
   "execution_count": null,
   "id": "39c57ae0",
   "metadata": {},
   "outputs": [],
   "source": [
    "#-8 Volume by hour \n",
    "df7 = pd.DataFrame(df, columns=['volume', 'hourOfDay'])\n",
    "df7['hourOfDay'] = df['hourOfDay']\n",
    "print(df7.head(30))"
   ]
  },
  {
   "cell_type": "code",
   "execution_count": null,
   "id": "0f424d8a",
   "metadata": {},
   "outputs": [],
   "source": [
    "df7.groupby('hourOfDay').mean().plot(kind='bar')\n",
    "plt.show()\n",
    "df7_mean_hr = df7.groupby('hourOfDay').mean()\n",
    "print(df7.groupby('hourOfDay').mean())"
   ]
  },
  {
   "cell_type": "code",
   "execution_count": null,
   "id": "f9898e2c",
   "metadata": {},
   "outputs": [],
   "source": [
    "df7_mean_hr.loc[df7_mean_hr['volume'].idxmax()]"
   ]
  },
  {
   "cell_type": "code",
   "execution_count": null,
   "id": "20290cf2",
   "metadata": {},
   "outputs": [],
   "source": [
    "df7_mean_hr.loc[df7_mean_hr['volume'].idxmin()]"
   ]
  },
  {
   "cell_type": "code",
   "execution_count": null,
   "id": "9406148e",
   "metadata": {},
   "outputs": [],
   "source": [
    "#9- find low of the week's hour \n",
    "df8 = pd.DataFrame(df, columns=['low', 'hourOfDay'])\n",
    "df8['hourOfDay'] = df['hourOfDay']"
   ]
  },
  {
   "cell_type": "code",
   "execution_count": null,
   "id": "22f6be52",
   "metadata": {},
   "outputs": [],
   "source": [
    "df8.groupby('hourOfDay').mean().plot(kind='bar')\n",
    "plt.show()\n",
    "df8_mean_hr = df8.groupby('hourOfDay').mean()\n",
    "print(df8.groupby('hourOfDay').mean())"
   ]
  },
  {
   "cell_type": "code",
   "execution_count": null,
   "id": "7ab482c7",
   "metadata": {},
   "outputs": [],
   "source": [
    "df8_mean_hr.loc[df8_mean_hr['low'].idxmax()]"
   ]
  },
  {
   "cell_type": "code",
   "execution_count": null,
   "id": "347987fd",
   "metadata": {},
   "outputs": [],
   "source": [
    "df8_mean_hr.loc[df8_mean_hr['low'].idxmin()]"
   ]
  },
  {
   "cell_type": "code",
   "execution_count": null,
   "id": "3dbf91c6",
   "metadata": {},
   "outputs": [],
   "source": [
    "#9- Highest hour on monday \n",
    "\n",
    "d = pd.date_range('2022-04-05', '2022-05-23', freq='D').to_series()\n",
    "d.dt.dayofweek\n",
    "\n",
    "df_week_days = d.dt.dayofweek.tolist()\n",
    "print(df_week_days)\n",
    "\n",
    "\n",
    "days[\"days\"] = d.dt.dayofweek.astype(dtype='int32', copy=True, errors='raise')\n",
    "days[\"days\"]"
   ]
  },
  {
   "cell_type": "code",
   "execution_count": null,
   "id": "39139534",
   "metadata": {},
   "outputs": [],
   "source": [
    "df['days'] = pd.to_datetime(df['startTime']).dt.dayofweek\n",
    "df.days.tail(70)\n",
    "d = {'col1': df['days']}\n",
    "d\n",
    "#disregard this "
   ]
  },
  {
   "cell_type": "code",
   "execution_count": null,
   "id": "fc08e378",
   "metadata": {},
   "outputs": [],
   "source": [
    "dfd = pd.DataFrame({'week_of_day':days})\n",
    "print(dfd)"
   ]
  },
  {
   "cell_type": "code",
   "execution_count": null,
   "id": "d2ed219a",
   "metadata": {},
   "outputs": [],
   "source": [
    "dfh = pd.DataFrame({'hour':hourOfDay})\n",
    "print(dfh)"
   ]
  },
  {
   "cell_type": "code",
   "execution_count": null,
   "id": "a126432c",
   "metadata": {},
   "outputs": [],
   "source": [
    "#specify monday : \n",
    "\n",
    "byday = df.loc[df['days'] == 0]\n",
    "byday.head(50)"
   ]
  },
  {
   "cell_type": "code",
   "execution_count": null,
   "id": "81938d09",
   "metadata": {},
   "outputs": [],
   "source": [
    "by_day_data = byday.groupby('hourOfDay').mean()\n",
    "by_day_data"
   ]
  },
  {
   "cell_type": "code",
   "execution_count": null,
   "id": "fb6b8e5d",
   "metadata": {},
   "outputs": [],
   "source": [
    "df_high = pd.DataFrame(byday, columns=['high', 'hourOfDay'])\n",
    "print(df_high.head(30))"
   ]
  },
  {
   "cell_type": "code",
   "execution_count": null,
   "id": "3d6cd204",
   "metadata": {},
   "outputs": [],
   "source": [
    "df_high_mean_day = df_high.groupby('hourOfDay').mean()\n",
    "print(df_high_mean_day.groupby('hourOfDay').mean())"
   ]
  },
  {
   "cell_type": "code",
   "execution_count": null,
   "id": "e2f22bbc",
   "metadata": {},
   "outputs": [],
   "source": [
    "df_high_mean_day.loc[df_high_mean_day['high'].idxmax()]"
   ]
  },
  {
   "cell_type": "code",
   "execution_count": null,
   "id": "30fda7ee",
   "metadata": {},
   "outputs": [],
   "source": [
    "df_high_mean_day.loc[df_high_mean_day['high'].idxmin()]"
   ]
  },
  {
   "cell_type": "code",
   "execution_count": null,
   "id": "f2f8e7aa",
   "metadata": {},
   "outputs": [],
   "source": [
    "# lowest hour on monday \n",
    "\n",
    "df_low = pd.DataFrame(byday, columns=['low', 'hourOfDay'])\n",
    "print(df_low.head(30))"
   ]
  },
  {
   "cell_type": "code",
   "execution_count": null,
   "id": "c7d3be65",
   "metadata": {},
   "outputs": [],
   "source": [
    "df_low_mean = df_low.groupby('hourOfDay').mean()\n",
    "print(df_low_mean)"
   ]
  },
  {
   "cell_type": "code",
   "execution_count": null,
   "id": "715c4569",
   "metadata": {},
   "outputs": [],
   "source": [
    "df_low_mean.loc[df_low_mean['low'].idxmax()]"
   ]
  },
  {
   "cell_type": "code",
   "execution_count": null,
   "id": "3f7192e4",
   "metadata": {},
   "outputs": [],
   "source": [
    "df_low_mean.loc[df_low_mean['low'].idxmin()]"
   ]
  },
  {
   "cell_type": "code",
   "execution_count": null,
   "id": "a6c79301",
   "metadata": {},
   "outputs": [],
   "source": [
    "# Open price on monday \n",
    "df_open = pd.DataFrame(byday, columns=['open', 'hourOfDay'])\n",
    "print(df_open.head(30))"
   ]
  },
  {
   "cell_type": "code",
   "execution_count": null,
   "id": "56bb01f5",
   "metadata": {},
   "outputs": [],
   "source": [
    "df_open_mean = df_open.groupby('hourOfDay').mean()\n",
    "print(df_open.groupby('hourOfDay').mean())"
   ]
  },
  {
   "cell_type": "code",
   "execution_count": null,
   "id": "589f89f3",
   "metadata": {},
   "outputs": [],
   "source": [
    "df_open_mean.loc[df_open_mean['open'].idxmax()]"
   ]
  },
  {
   "cell_type": "code",
   "execution_count": null,
   "id": "69d0ec8e",
   "metadata": {},
   "outputs": [],
   "source": [
    "df_open_mean.loc[df_open_mean['open'].idxmin()]"
   ]
  },
  {
   "cell_type": "code",
   "execution_count": null,
   "id": "d303f11b",
   "metadata": {},
   "outputs": [],
   "source": [
    "# close hours \n",
    "df_close = pd.DataFrame(byday, columns=['close', 'hourOfDay'])\n",
    "print(df_close.head(30))\n"
   ]
  },
  {
   "cell_type": "code",
   "execution_count": null,
   "id": "d8d50289",
   "metadata": {},
   "outputs": [],
   "source": [
    "df_close_mean = df_close.groupby('hourOfDay').mean()\n",
    "print(df_close.groupby('hourOfDay').mean())"
   ]
  },
  {
   "cell_type": "code",
   "execution_count": null,
   "id": "b6a8e07b",
   "metadata": {},
   "outputs": [],
   "source": [
    "df_close_mean.loc[df_close_mean['close'].idxmax()]"
   ]
  },
  {
   "cell_type": "code",
   "execution_count": null,
   "id": "ba24cba1",
   "metadata": {},
   "outputs": [],
   "source": [
    "df_close_mean.loc[df_close_mean['close'].idxmin()]"
   ]
  },
  {
   "cell_type": "code",
   "execution_count": null,
   "id": "2400f07a",
   "metadata": {},
   "outputs": [],
   "source": [
    "#specify tuesday : \n",
    "\n",
    "byday1 = df.loc[df['days'] == 1]\n",
    "byday1.tail(50)"
   ]
  },
  {
   "cell_type": "code",
   "execution_count": null,
   "id": "a1b56c65",
   "metadata": {},
   "outputs": [],
   "source": [
    "by_day_data1 = byday1.groupby('hourOfDay').mean()\n",
    "by_day_data1\n"
   ]
  },
  {
   "cell_type": "code",
   "execution_count": null,
   "id": "7f73fb3b",
   "metadata": {},
   "outputs": [],
   "source": [
    "df_high1 = pd.DataFrame(byday1, columns=['high', 'hourOfDay'])\n",
    "print(df_high1.head(30))"
   ]
  },
  {
   "cell_type": "code",
   "execution_count": null,
   "id": "362be9bd",
   "metadata": {},
   "outputs": [],
   "source": [
    "df_high_mean_day1 = df_high1.groupby('hourOfDay').mean()\n",
    "print(df_high_mean_day1.groupby('hourOfDay').mean())"
   ]
  },
  {
   "cell_type": "code",
   "execution_count": null,
   "id": "413a76e9",
   "metadata": {},
   "outputs": [],
   "source": [
    "df_high_mean_day1.loc[df_high_mean_day1['high'].idxmax()]"
   ]
  },
  {
   "cell_type": "code",
   "execution_count": null,
   "id": "a4103838",
   "metadata": {},
   "outputs": [],
   "source": [
    "df_high_mean_day1.loc[df_high_mean_day1['high'].idxmin()]"
   ]
  },
  {
   "cell_type": "code",
   "execution_count": null,
   "id": "944576be",
   "metadata": {},
   "outputs": [],
   "source": [
    "#specify wednsday \n",
    "byday2 = df.loc[df['days'] == 2]\n",
    "byday2.head(50)\n",
    "byday2.info()\n",
    "byday2.isnull().values.any() # check for null values "
   ]
  },
  {
   "cell_type": "code",
   "execution_count": null,
   "id": "c5dddbb9",
   "metadata": {},
   "outputs": [],
   "source": [
    "by_day_data2 = byday2.groupby('hourOfDay').mean()\n",
    "by_day_data2"
   ]
  },
  {
   "cell_type": "code",
   "execution_count": null,
   "id": "e17ab45b",
   "metadata": {},
   "outputs": [],
   "source": [
    "df_high2 = pd.DataFrame(byday2, columns=['high', 'hourOfDay'])\n",
    "print(df_high2.head(30))"
   ]
  },
  {
   "cell_type": "code",
   "execution_count": null,
   "id": "f2ea7322",
   "metadata": {},
   "outputs": [],
   "source": [
    "df_high_mean_day1.loc[df_high_mean_day1['high'].idxmax()]"
   ]
  },
  {
   "cell_type": "code",
   "execution_count": null,
   "id": "d1325e04",
   "metadata": {},
   "outputs": [],
   "source": [
    "df_high_mean_day1.loc[df_high_mean_day1['high'].idxmin()]"
   ]
  },
  {
   "cell_type": "code",
   "execution_count": null,
   "id": "6c516d10",
   "metadata": {},
   "outputs": [],
   "source": [
    "\n",
    "byday2 = df.loc[df['days'] == 2]\n",
    "byday2.tail(50)\n",
    "by_day_data2 = byday1.groupby('hourOfDay').mean()\n",
    "by_day_data2\n",
    "\n",
    "df_high2 = pd.DataFrame(byday2, columns=['high', 'hourOfDay'])\n",
    "print(df_high1.head(30))\n",
    "\n",
    "df_high_mean_day2 = df_high2.groupby('hourOfDay').mean()\n",
    "print(df_high_mean_day2.groupby('hourOfDay').mean())\n",
    "\n",
    "df_high_mean_day2.loc[df_high_mean_day2['high'].idxmax()]\n",
    "\n"
   ]
  },
  {
   "cell_type": "code",
   "execution_count": null,
   "id": "28873a84",
   "metadata": {},
   "outputs": [],
   "source": [
    "df_high_mean_day2.loc[df_high_mean_day2['high'].idxmin()]"
   ]
  },
  {
   "cell_type": "code",
   "execution_count": null,
   "id": "4e5937ce",
   "metadata": {},
   "outputs": [],
   "source": [
    "# SMA over whole period  ====> Fix this \n",
    "df_high2_sma = df_high2.rolling(10, min_periods=1).mean()\n",
    "df_high2_sma"
   ]
  },
  {
   "cell_type": "code",
   "execution_count": null,
   "id": "6f857141",
   "metadata": {},
   "outputs": [],
   "source": [
    "# thursday \n",
    "byday2 = df.loc[df['days'] == 3]\n",
    "byday2.head(50)\n",
    "byday2.info()\n",
    "byday2.isnull().values.any() # check for null values \n"
   ]
  },
  {
   "cell_type": "code",
   "execution_count": null,
   "id": "154473b7",
   "metadata": {},
   "outputs": [],
   "source": [
    "# loc multiple conditions  , USe this to filter BTC out of weekend to correlate with S&p500 \n",
    "bydayx=df.loc[(df['days'] != 5) & (df['days'] != 6)]\n",
    "bydayx.tail(60)"
   ]
  }
 ],
 "metadata": {
  "kernelspec": {
   "display_name": "Python 3",
   "language": "python",
   "name": "python3"
  },
  "language_info": {
   "codemirror_mode": {
    "name": "ipython",
    "version": 3
   },
   "file_extension": ".py",
   "mimetype": "text/x-python",
   "name": "python",
   "nbconvert_exporter": "python",
   "pygments_lexer": "ipython3",
   "version": "3.8.13"
  }
 },
 "nbformat": 4,
 "nbformat_minor": 5
}
